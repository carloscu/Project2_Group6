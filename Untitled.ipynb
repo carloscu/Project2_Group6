{
 "cells": [
  {
   "cell_type": "code",
   "execution_count": 1,
   "metadata": {},
   "outputs": [],
   "source": [
    "\n",
    "import pandas as pd\n",
    "import sqlalchemy\n",
    "from sqlalchemy.ext.automap import automap_base\n",
    "from sqlalchemy.orm import Session\n",
    "from sqlalchemy import create_engine, inspect, func\n"
   ]
  },
  {
   "cell_type": "code",
   "execution_count": 10,
   "metadata": {},
   "outputs": [],
   "source": [
    "engine = create_engine(\"sqlite:///db_pokemon.db\", echo=False)"
   ]
  },
  {
   "cell_type": "code",
   "execution_count": 11,
   "metadata": {},
   "outputs": [
    {
     "data": {
      "text/plain": [
       "['stats']"
      ]
     },
     "execution_count": 11,
     "metadata": {},
     "output_type": "execute_result"
    }
   ],
   "source": [
    "Base = automap_base()\n",
    "Base.prepare(engine, reflect=True)\n",
    "Base.classes.keys()"
   ]
  },
  {
   "cell_type": "code",
   "execution_count": 12,
   "metadata": {},
   "outputs": [
    {
     "data": {
      "text/plain": [
       "[(1, 'Bulbasaur', 'Grass', 'Poison', 318, 45, 49, 49, 65, 65, 45, 1, 'FALSE', 'Green', 'TRUE', 0.875, 'Monster', 'Grass', 'FALSE', 0.71, 6.9, 45, 'quadruped'),\n",
       " (2, 'Ivysaur', 'Grass', 'Poison', 405, 60, 62, 63, 80, 80, 60, 1, 'FALSE', 'Green', 'TRUE', 0.875, 'Monster', 'Grass', 'FALSE', 0.99, 13.0, 45, 'quadruped'),\n",
       " (3, 'Venusaur', 'Grass', 'Poison', 525, 80, 82, 83, 100, 100, 80, 1, 'FALSE', 'Green', 'TRUE', 0.875, 'Monster', 'Grass', 'TRUE', 2.01, 100.0, 45, 'quadruped'),\n",
       " (4, 'Charmander', 'Fire', '', 309, 39, 52, 43, 60, 50, 65, 1, 'FALSE', 'Red', 'TRUE', 0.875, 'Monster', 'Dragon', 'FALSE', 0.61, 8.5, 45, 'bipedal_tailed'),\n",
       " (5, 'Charmeleon', 'Fire', '', 405, 58, 64, 58, 80, 65, 80, 1, 'FALSE', 'Red', 'TRUE', 0.875, 'Monster', 'Dragon', 'FALSE', 1.09, 19.0, 45, 'bipedal_tailed')]"
      ]
     },
     "execution_count": 12,
     "metadata": {},
     "output_type": "execute_result"
    }
   ],
   "source": [
    "engine.execute('SELECT * FROM stats LIMIT 5').fetchall()"
   ]
  },
  {
   "cell_type": "code",
   "execution_count": null,
   "metadata": {},
   "outputs": [],
   "source": []
  }
 ],
 "metadata": {
  "kernelspec": {
   "display_name": "Python 3",
   "language": "python",
   "name": "python3"
  },
  "language_info": {
   "codemirror_mode": {
    "name": "ipython",
    "version": 3
   },
   "file_extension": ".py",
   "mimetype": "text/x-python",
   "name": "python",
   "nbconvert_exporter": "python",
   "pygments_lexer": "ipython3",
   "version": "3.6.8"
  }
 },
 "nbformat": 4,
 "nbformat_minor": 2
}
